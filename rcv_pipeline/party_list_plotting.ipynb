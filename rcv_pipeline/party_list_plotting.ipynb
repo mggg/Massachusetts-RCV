{
 "cells": [
  {
   "cell_type": "code",
   "execution_count": 35,
   "metadata": {},
   "outputs": [],
   "source": [
    "import jsonlines\n",
    "import json\n",
    "import matplotlib.pyplot as plt\n",
    "from matplotlib.patches import Circle\n",
    "from matplotlib.font_manager import FontProperties\n",
    "from party_lists.party_list import random_list\n",
    "import numpy as np\n",
    "from gerrytools.plotting import boxplot"
   ]
  },
  {
   "cell_type": "code",
   "execution_count": 1,
   "metadata": {},
   "outputs": [
    {
     "ename": "NameError",
     "evalue": "name 'jsonlines' is not defined",
     "output_type": "error",
     "traceback": [
      "\u001b[0;31m---------------------------------------------------------------------------\u001b[0m",
      "\u001b[0;31mNameError\u001b[0m                                 Traceback (most recent call last)",
      "\u001b[0;32m/var/folders/9c/588vmzx576d47gqhpgtw95v00000gn/T/ipykernel_83017/2836107026.py\u001b[0m in \u001b[0;36m<module>\u001b[0;34m\u001b[0m\n\u001b[1;32m      1\u001b[0m \u001b[0;31m# 8x5\u001b[0m\u001b[0;34m\u001b[0m\u001b[0;34m\u001b[0m\u001b[0m\n\u001b[1;32m      2\u001b[0m \u001b[0mplans\u001b[0m \u001b[0;34m=\u001b[0m \u001b[0;34m[\u001b[0m\u001b[0;34m]\u001b[0m\u001b[0;34m\u001b[0m\u001b[0;34m\u001b[0m\u001b[0m\n\u001b[0;32m----> 3\u001b[0;31m \u001b[0;32mwith\u001b[0m \u001b[0mjsonlines\u001b[0m\u001b[0;34m.\u001b[0m\u001b[0mopen\u001b[0m\u001b[0;34m(\u001b[0m\u001b[0;34m'../old_output/chains/massachusetts-0-40-0/neutral.jsonl'\u001b[0m\u001b[0;34m)\u001b[0m \u001b[0;32mas\u001b[0m \u001b[0mr\u001b[0m\u001b[0;34m:\u001b[0m\u001b[0;34m\u001b[0m\u001b[0;34m\u001b[0m\u001b[0m\n\u001b[0m\u001b[1;32m      4\u001b[0m     \u001b[0;32mfor\u001b[0m \u001b[0mline\u001b[0m \u001b[0;32min\u001b[0m \u001b[0mr\u001b[0m\u001b[0;34m:\u001b[0m\u001b[0;34m\u001b[0m\u001b[0;34m\u001b[0m\u001b[0m\n\u001b[1;32m      5\u001b[0m         \u001b[0mplans\u001b[0m\u001b[0;34m.\u001b[0m\u001b[0mappend\u001b[0m\u001b[0;34m(\u001b[0m\u001b[0mline\u001b[0m\u001b[0;34m)\u001b[0m\u001b[0;34m\u001b[0m\u001b[0;34m\u001b[0m\u001b[0m\n",
      "\u001b[0;31mNameError\u001b[0m: name 'jsonlines' is not defined"
     ]
    }
   ],
   "source": [
    "# 8x5\n",
    "plans = []\n",
    "with jsonlines.open('../old_output/chains/massachusetts-0-40-0/neutral.jsonl') as r:\n",
    "    for line in r:\n",
    "        plans.append(line)"
   ]
  },
  {
   "cell_type": "code",
   "execution_count": 33,
   "metadata": {},
   "outputs": [],
   "source": [
    "#gen list of shares and rep seats\n",
    "shares = []\n",
    "seats = []\n",
    "for plan in plans:\n",
    "    outcome = random_list(plan, 5) \n",
    "    for district in range(1, 9):\n",
    "        share = plan['DIEHL18'][str(district)]/(plan['WARREN18'][str(district)] + plan['DIEHL18'][str(district)])\n",
    "        shares.append(round(share, 2))\n",
    "        cands, num_seats, party = outcome[district]\n",
    "        if party == 'Democrat':\n",
    "            seats.append(5-num_seats)\n",
    "        if party == 'Republican':\n",
    "            seats.append(num_seats)"
   ]
  },
  {
   "cell_type": "code",
   "execution_count": 50,
   "metadata": {},
   "outputs": [
    {
     "data": {
      "text/plain": [
       "Text(0, 0.5, 'Republican seats won per District')"
      ]
     },
     "execution_count": 50,
     "metadata": {},
     "output_type": "execute_result"
    },
    {
     "data": {
      "image/png": "[encoded data removed]",
      "text/plain": [
       "<Figure size 600x400 with 1 Axes>"
      ]
     },
     "metadata": {},
     "output_type": "display_data"
    }
   ],
   "source": [
    "data = np.column_stack((shares, seats))\n",
    "unique, counts = np.unique(data, axis=0, return_counts=True)\n",
    "sizes = counts * .05\n",
    "plt.figure(figsize=(6, 4))\n",
    "plt.scatter(unique[:, 0], unique[:, 1], s=sizes, color = 'tab:red')\n",
    "plt.ylim(0, 5)\n",
    "plt.xlim(0, 0.7)\n",
    "plt.xlabel('DIEHL18 Vote Share')\n",
    "plt.ylabel('Republican seats won per District')"
   ]
  },
  {
   "cell_type": "markdown",
   "metadata": {},
   "source": [
    "Switch axes...\n",
    "\n",
    "Plots, more plots\n",
    "8x5, 32x4, 10x4, 40x4 \n",
    "\n",
    "100,000 Plans\n",
    "- Warren/Dielh: SEN18D/R\n",
    "- Baker(Republican): 2014/2018 GOV14/18/RD\n",
    "- Markey/R: SEN20GEMAR/SEN20GKOCO\n",
    "- Biden/Trump: PRES20GJBI/PRES20GDTR"
   ]
  },
  {
   "cell_type": "code",
   "execution_count": null,
   "metadata": {},
   "outputs": [],
   "source": []
  }
 ],
 "metadata": {
  "kernelspec": {
   "display_name": "Python 3.9.13 ('base')",
   "language": "python",
   "name": "python3"
  },
  "language_info": {
   "codemirror_mode": {
    "name": "ipython",
    "version": 3
   },
   "file_extension": ".py",
   "mimetype": "text/x-python",
   "name": "python",
   "nbconvert_exporter": "python",
   "pygments_lexer": "ipython3",
   "version": "3.9.13"
  },
  "orig_nbformat": 4,
  "vscode": {
   "interpreter": {
    "hash": "9e24dd9cc808ab50800f409e27684ef1d7d2c09bc61702024ae72f277d93666d"
   }
  }
 },
 "nbformat": 4,
 "nbformat_minor": 2
}
